{
  "nbformat": 4,
  "nbformat_minor": 0,
  "metadata": {
    "colab": {
      "provenance": [],
      "authorship_tag": "ABX9TyMAtLPfmp1NEusGWX3d4cge",
      "include_colab_link": true
    },
    "kernelspec": {
      "name": "python3",
      "display_name": "Python 3"
    },
    "language_info": {
      "name": "python"
    }
  },
  "cells": [
    {
      "cell_type": "markdown",
      "metadata": {
        "id": "view-in-github",
        "colab_type": "text"
      },
      "source": [
        "<a href=\"https://colab.research.google.com/github/SXM58580/Assignment2/blob/main/Untitled0.ipynb\" target=\"_parent\"><img src=\"https://colab.research.google.com/assets/colab-badge.svg\" alt=\"Open In Colab\"/></a>"
      ]
    },
    {
      "cell_type": "code",
      "execution_count": null,
      "metadata": {
        "colab": {
          "base_uri": "https://localhost:8080/"
        },
        "id": "ghaI1T2-7VuM",
        "outputId": "587f17eb-1a2b-4dd8-a6d1-47dba99ff372"
      },
      "outputs": [
        {
          "output_type": "stream",
          "name": "stdout",
          "text": [
            "* \n",
            "* * \n",
            "* * * \n",
            "* * * * \n",
            "* * * * * \n",
            "* * * * \n",
            "* * * \n",
            "* * \n",
            "* \n"
          ]
        }
      ],
      "source": [
        "for i in range(1,6):\n",
        "    for j in range(0,i):\n",
        "        print(\"*\",end=\" \")\n",
        "    print(\"\")\n",
        "for i in range(4,0,-1):\n",
        "    for j in range(0,i):\n",
        "        print(\"*\",end=\" \")\n",
        "    print(\"\")"
      ]
    },
    {
      "cell_type": "code",
      "source": [],
      "metadata": {
        "id": "DIB-NHuP7rZM"
      },
      "execution_count": null,
      "outputs": []
    },
    {
      "cell_type": "code",
      "source": [
        "my_List=[10,20,30,40,50,60,70,80,90,100]\n",
        "for i in range(0,len(my_List)):\n",
        "    if i%2==1:\n",
        "        print(my_List[i],end=\" \")\n",
        "print(\"\")"
      ],
      "metadata": {
        "colab": {
          "base_uri": "https://localhost:8080/"
        },
        "id": "xgev4cRX8lhI",
        "outputId": "8382ce37-ad5d-464b-af85-62d7449db158"
      },
      "execution_count": null,
      "outputs": [
        {
          "output_type": "stream",
          "name": "stdout",
          "text": [
            "20 40 60 80 100 \n"
          ]
        }
      ]
    },
    {
      "cell_type": "code",
      "source": [
        "x = [23, 'Python', 23.98]\n",
        "t=[]\n",
        "for i in range(0,len(x)):\n",
        "    t.append(type(x[i]))\n",
        "print(x)\n",
        "print(t)"
      ],
      "metadata": {
        "colab": {
          "base_uri": "https://localhost:8080/"
        },
        "id": "muAL0uGGBUMh",
        "outputId": "1d85f70b-f06e-4bd7-92e9-dce2477e43ab"
      },
      "execution_count": 7,
      "outputs": [
        {
          "output_type": "stream",
          "name": "stdout",
          "text": [
            "[23, 'Python', 23.98]\n",
            "[<class 'int'>, <class 'str'>, <class 'float'>]\n"
          ]
        }
      ]
    },
    {
      "cell_type": "code",
      "source": [
        "Sample_List=[1,2,3,3,3,3,4,5]\n",
        "Unique_List=[]\n",
        "for i in Sample_List:\n",
        "    if i not in Unique_List:\n",
        "        Unique_List.append(i)\n",
        "print(Unique_List)"
      ],
      "metadata": {
        "colab": {
          "base_uri": "https://localhost:8080/"
        },
        "id": "dncaokl08yBG",
        "outputId": "3a6a714e-feaf-487b-9315-3d3ee1cb0313"
      },
      "execution_count": null,
      "outputs": [
        {
          "output_type": "stream",
          "name": "stdout",
          "text": [
            "[1, 2, 3, 4, 5]\n"
          ]
        }
      ]
    },
    {
      "cell_type": "code",
      "source": [
        "Input_String='The quick Brow Fox'\n",
        "capitals=0\n",
        "spaces=0\n",
        "for i in Input_String:\n",
        "    if(i.isupper()):\n",
        "        capitals+=1\n",
        "    else:\n",
        "        if i==\" \":\n",
        "            spaces+=1\n",
        "print(\"No. of Upper-case characters: \"+str(capitals))\n",
        "print(\"No. of Lower-case characters: \"+str((len(Input_String)-(capitals+spaces))))"
      ],
      "metadata": {
        "colab": {
          "base_uri": "https://localhost:8080/"
        },
        "id": "7AZSVfO087S2",
        "outputId": "f75d9389-9572-4067-d672-cdc76435be42"
      },
      "execution_count": null,
      "outputs": [
        {
          "output_type": "stream",
          "name": "stdout",
          "text": [
            "No. of Upper-case characters: 3\n",
            "No. of Lower-case characters: 12\n"
          ]
        }
      ]
    },
    {
      "cell_type": "code",
      "source": [],
      "metadata": {
        "id": "joY7_WfK9c7u"
      },
      "execution_count": null,
      "outputs": []
    }
  ]
}